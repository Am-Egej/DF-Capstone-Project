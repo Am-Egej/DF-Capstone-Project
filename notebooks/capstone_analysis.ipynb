{
 "cells": [
  {
   "cell_type": "code",
   "execution_count": 12,
   "id": "1805ae2e-cc87-4851-866a-0a388e2b084d",
   "metadata": {},
   "outputs": [
    {
     "name": "stdout",
     "output_type": "stream",
     "text": [
      "📦 Downloading dataset: dissfya/atp-tennis-2000-2023daily-pull\n",
      "✅ Download complete.\n",
      "📁 Path to dataset files: C:\\Users\\amege\\.cache\\kagglehub\\datasets\\dissfya\\atp-tennis-2000-2023daily-pull\\versions\\827\n",
      "📄 Saved: data/raw\\atp_tennis.csv\n"
     ]
    }
   ],
   "source": [
    "import kagglehub\n",
    "import os\n",
    "import pandas as pd\n",
    "\n",
    "def fetch_and_save_dataset(dataset_id=\"dissfya/atp-tennis-2000-2023daily-pull\", output_dir=r\"data/raw\"):\n",
    "    try:\n",
    "        print(f\"📦 Downloading dataset: {dataset_id}\")\n",
    "        path = kagglehub.dataset_download(dataset_id)\n",
    "\n",
    "        print(\"✅ Download complete.\")\n",
    "        print(\"📁 Path to dataset files:\", path)\n",
    "\n",
    "        # Ensure output directory exists\n",
    "        os.makedirs(output_dir, exist_ok=True)\n",
    "\n",
    "        # Loop through files and save as CSV if it is a csv\n",
    "        for file in os.listdir(path):\n",
    "            file_path = os.path.join(path, file)\n",
    "            if file.endswith(\".csv\"):\n",
    "                df = pd.read_csv(file_path)\n",
    "                output_path = os.path.join(output_dir, file)\n",
    "                df.to_csv(output_path, index=False)\n",
    "                print(f\"📄 Saved: {output_path}\")\n",
    "            else:\n",
    "                print(f\"⚠️ Skipped non-CSV file: {file}\")\n",
    "\n",
    "    except Exception as e:\n",
    "        print(\"❌ Error during dataset fetch:\", str(e))\n",
    "\n",
    "if __name__ == \"__main__\":\n",
    "    fetch_and_save_dataset()\n"
   ]
  },
  {
   "cell_type": "code",
   "execution_count": 64,
   "id": "5988c9b6-6dc4-4b53-a47c-62961b6bb9f3",
   "metadata": {},
   "outputs": [],
   "source": [
    "# Set display option to show all columns\n",
    "pd.set_option(\"display.max_columns\", None)"
   ]
  },
  {
   "cell_type": "code",
   "execution_count": 8,
   "id": "9ba023b4-9571-4f99-aebb-f9a4585078d3",
   "metadata": {},
   "outputs": [
    {
     "name": "stdout",
     "output_type": "stream",
     "text": [
      "Downloading from https://www.kaggle.com/api/v1/datasets/download/dissfya/atp-tennis-2000-2023daily-pull?dataset_version_number=827...\n"
     ]
    }
   ],
   "source": []
  },
  {
   "cell_type": "code",
   "execution_count": null,
   "id": "8ba9f136-5e52-4ab8-ba12-c9c180953849",
   "metadata": {},
   "outputs": [],
   "source": []
  }
 ],
 "metadata": {
  "kernelspec": {
   "display_name": "Python 3 (ipykernel)",
   "language": "python",
   "name": "python3"
  },
  "language_info": {
   "codemirror_mode": {
    "name": "ipython",
    "version": 3
   },
   "file_extension": ".py",
   "mimetype": "text/x-python",
   "name": "python",
   "nbconvert_exporter": "python",
   "pygments_lexer": "ipython3",
   "version": "3.12.7"
  }
 },
 "nbformat": 4,
 "nbformat_minor": 5
}
